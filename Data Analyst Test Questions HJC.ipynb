{
 "cells": [
  {
   "cell_type": "markdown",
   "metadata": {},
   "source": [
    "# INSTRUCTIONS\n",
    "- Please answer the following questions with the code language provided\n",
    "- Feel free to add more cells when necessary for each question than just the one provided\n",
    "- For python code, the code cells should be executed and the final cell output should display the answer to the question\n",
    "- For SQL, the answer cells are set to \"Markdown\" so please execuse as a markdown to ensure the code stays saved"
   ]
  },
  {
   "cell_type": "markdown",
   "metadata": {},
   "source": [
    "# Import headers and the 3 data files"
   ]
  },
  {
   "cell_type": "code",
   "execution_count": 4,
   "metadata": {},
   "outputs": [
    {
     "data": {
      "text/html": [
       "<style>.container { width:100% !important; }</style>"
      ],
      "text/plain": [
       "<IPython.core.display.HTML object>"
      ]
     },
     "metadata": {},
     "output_type": "display_data"
    }
   ],
   "source": [
    "from IPython.core.display import display, HTML\n",
    "display(HTML(\"<style>.container { width:100% !important; }</style>\"))\n"
   ]
  },
  {
   "cell_type": "markdown",
   "metadata": {},
   "source": [
    "# What is the total revenue generated in the entire data set?"
   ]
  },
  {
   "cell_type": "markdown",
   "metadata": {},
   "source": [
    "python code"
   ]
  },
  {
   "cell_type": "code",
   "execution_count": 2,
   "metadata": {},
   "outputs": [],
   "source": [
    "import pandas as pd \n",
    "customers = pd.read_csv(\"customers.csv\") \n",
    "orders = pd.read_csv(\"orders.csv\") \n",
    "prices=pd.read_csv(\"prices.csv\") "
   ]
  },
  {
   "cell_type": "code",
   "execution_count": 210,
   "metadata": {},
   "outputs": [
    {
     "data": {
      "text/html": [
       "<div>\n",
       "<style scoped>\n",
       "    .dataframe tbody tr th:only-of-type {\n",
       "        vertical-align: middle;\n",
       "    }\n",
       "\n",
       "    .dataframe tbody tr th {\n",
       "        vertical-align: top;\n",
       "    }\n",
       "\n",
       "    .dataframe thead th {\n",
       "        text-align: right;\n",
       "    }\n",
       "</style>\n",
       "<table border=\"1\" class=\"dataframe\">\n",
       "  <thead>\n",
       "    <tr style=\"text-align: right;\">\n",
       "      <th></th>\n",
       "      <th>product</th>\n",
       "      <th>price</th>\n",
       "    </tr>\n",
       "  </thead>\n",
       "  <tbody>\n",
       "    <tr>\n",
       "      <th>0</th>\n",
       "      <td>x1</td>\n",
       "      <td>4.58</td>\n",
       "    </tr>\n",
       "    <tr>\n",
       "      <th>1</th>\n",
       "      <td>x2</td>\n",
       "      <td>44.22</td>\n",
       "    </tr>\n",
       "    <tr>\n",
       "      <th>2</th>\n",
       "      <td>x3</td>\n",
       "      <td>79.89</td>\n",
       "    </tr>\n",
       "    <tr>\n",
       "      <th>3</th>\n",
       "      <td>x4</td>\n",
       "      <td>12.19</td>\n",
       "    </tr>\n",
       "    <tr>\n",
       "      <th>4</th>\n",
       "      <td>x5</td>\n",
       "      <td>56.09</td>\n",
       "    </tr>\n",
       "  </tbody>\n",
       "</table>\n",
       "</div>"
      ],
      "text/plain": [
       "  product  price\n",
       "0      x1   4.58\n",
       "1      x2  44.22\n",
       "2      x3  79.89\n",
       "3      x4  12.19\n",
       "4      x5  56.09"
      ]
     },
     "execution_count": 210,
     "metadata": {},
     "output_type": "execute_result"
    }
   ],
   "source": [
    "#orders.head()\n",
    "#customers.head()\n",
    "prices.head()"
   ]
  },
  {
   "cell_type": "code",
   "execution_count": 11,
   "metadata": {},
   "outputs": [
    {
     "data": {
      "text/html": [
       "<div>\n",
       "<style scoped>\n",
       "    .dataframe tbody tr th:only-of-type {\n",
       "        vertical-align: middle;\n",
       "    }\n",
       "\n",
       "    .dataframe tbody tr th {\n",
       "        vertical-align: top;\n",
       "    }\n",
       "\n",
       "    .dataframe thead th {\n",
       "        text-align: right;\n",
       "    }\n",
       "</style>\n",
       "<table border=\"1\" class=\"dataframe\">\n",
       "  <thead>\n",
       "    <tr style=\"text-align: right;\">\n",
       "      <th></th>\n",
       "      <th>order_number</th>\n",
       "      <th>customer_name</th>\n",
       "      <th>product</th>\n",
       "      <th>quantity</th>\n",
       "      <th>date</th>\n",
       "      <th>price</th>\n",
       "    </tr>\n",
       "  </thead>\n",
       "  <tbody>\n",
       "    <tr>\n",
       "      <th>0</th>\n",
       "      <td>1</td>\n",
       "      <td>carreca01</td>\n",
       "      <td>y3</td>\n",
       "      <td>1</td>\n",
       "      <td>2017-12-09</td>\n",
       "      <td>81.46</td>\n",
       "    </tr>\n",
       "    <tr>\n",
       "      <th>1</th>\n",
       "      <td>2</td>\n",
       "      <td>handdo01</td>\n",
       "      <td>y3</td>\n",
       "      <td>1</td>\n",
       "      <td>2017-11-27</td>\n",
       "      <td>81.46</td>\n",
       "    </tr>\n",
       "    <tr>\n",
       "      <th>2</th>\n",
       "      <td>18</td>\n",
       "      <td>decindo01</td>\n",
       "      <td>y3</td>\n",
       "      <td>2</td>\n",
       "      <td>2017-12-22</td>\n",
       "      <td>81.46</td>\n",
       "    </tr>\n",
       "    <tr>\n",
       "      <th>3</th>\n",
       "      <td>20</td>\n",
       "      <td>taveral01</td>\n",
       "      <td>y3</td>\n",
       "      <td>4</td>\n",
       "      <td>2017-10-17</td>\n",
       "      <td>81.46</td>\n",
       "    </tr>\n",
       "    <tr>\n",
       "      <th>4</th>\n",
       "      <td>25</td>\n",
       "      <td>wallide01</td>\n",
       "      <td>y3</td>\n",
       "      <td>3</td>\n",
       "      <td>2017-10-30</td>\n",
       "      <td>81.46</td>\n",
       "    </tr>\n",
       "  </tbody>\n",
       "</table>\n",
       "</div>"
      ],
      "text/plain": [
       "   order_number customer_name product  quantity        date  price\n",
       "0             1     carreca01      y3         1  2017-12-09  81.46\n",
       "1             2      handdo01      y3         1  2017-11-27  81.46\n",
       "2            18     decindo01      y3         2  2017-12-22  81.46\n",
       "3            20     taveral01      y3         4  2017-10-17  81.46\n",
       "4            25     wallide01      y3         3  2017-10-30  81.46"
      ]
     },
     "execution_count": 11,
     "metadata": {},
     "output_type": "execute_result"
    }
   ],
   "source": [
    "ordersANDprices = pd.merge(orders, prices, on=\"product\")\n",
    "ordersANDprices.head()"
   ]
  },
  {
   "cell_type": "code",
   "execution_count": 15,
   "metadata": {},
   "outputs": [
    {
     "data": {
      "text/html": [
       "<div>\n",
       "<style scoped>\n",
       "    .dataframe tbody tr th:only-of-type {\n",
       "        vertical-align: middle;\n",
       "    }\n",
       "\n",
       "    .dataframe tbody tr th {\n",
       "        vertical-align: top;\n",
       "    }\n",
       "\n",
       "    .dataframe thead th {\n",
       "        text-align: right;\n",
       "    }\n",
       "</style>\n",
       "<table border=\"1\" class=\"dataframe\">\n",
       "  <thead>\n",
       "    <tr style=\"text-align: right;\">\n",
       "      <th></th>\n",
       "      <th>order_number</th>\n",
       "      <th>customer_name</th>\n",
       "      <th>product</th>\n",
       "      <th>quantity</th>\n",
       "      <th>date</th>\n",
       "      <th>price</th>\n",
       "      <th>total_cost</th>\n",
       "    </tr>\n",
       "  </thead>\n",
       "  <tbody>\n",
       "    <tr>\n",
       "      <th>0</th>\n",
       "      <td>1</td>\n",
       "      <td>carreca01</td>\n",
       "      <td>y3</td>\n",
       "      <td>1</td>\n",
       "      <td>2017-12-09</td>\n",
       "      <td>81.46</td>\n",
       "      <td>81.46</td>\n",
       "    </tr>\n",
       "    <tr>\n",
       "      <th>1</th>\n",
       "      <td>2</td>\n",
       "      <td>handdo01</td>\n",
       "      <td>y3</td>\n",
       "      <td>1</td>\n",
       "      <td>2017-11-27</td>\n",
       "      <td>81.46</td>\n",
       "      <td>81.46</td>\n",
       "    </tr>\n",
       "    <tr>\n",
       "      <th>2</th>\n",
       "      <td>18</td>\n",
       "      <td>decindo01</td>\n",
       "      <td>y3</td>\n",
       "      <td>2</td>\n",
       "      <td>2017-12-22</td>\n",
       "      <td>81.46</td>\n",
       "      <td>162.92</td>\n",
       "    </tr>\n",
       "    <tr>\n",
       "      <th>3</th>\n",
       "      <td>20</td>\n",
       "      <td>taveral01</td>\n",
       "      <td>y3</td>\n",
       "      <td>4</td>\n",
       "      <td>2017-10-17</td>\n",
       "      <td>81.46</td>\n",
       "      <td>325.84</td>\n",
       "    </tr>\n",
       "    <tr>\n",
       "      <th>4</th>\n",
       "      <td>25</td>\n",
       "      <td>wallide01</td>\n",
       "      <td>y3</td>\n",
       "      <td>3</td>\n",
       "      <td>2017-10-30</td>\n",
       "      <td>81.46</td>\n",
       "      <td>244.38</td>\n",
       "    </tr>\n",
       "  </tbody>\n",
       "</table>\n",
       "</div>"
      ],
      "text/plain": [
       "   order_number customer_name product  quantity        date  price  total_cost\n",
       "0             1     carreca01      y3         1  2017-12-09  81.46       81.46\n",
       "1             2      handdo01      y3         1  2017-11-27  81.46       81.46\n",
       "2            18     decindo01      y3         2  2017-12-22  81.46      162.92\n",
       "3            20     taveral01      y3         4  2017-10-17  81.46      325.84\n",
       "4            25     wallide01      y3         3  2017-10-30  81.46      244.38"
      ]
     },
     "execution_count": 15,
     "metadata": {},
     "output_type": "execute_result"
    }
   ],
   "source": [
    "ordersANDprices['total_cost']=ordersANDprices['price']*ordersANDprices['quantity']\n",
    "ordersANDprices.head()"
   ]
  },
  {
   "cell_type": "code",
   "execution_count": 16,
   "metadata": {},
   "outputs": [
    {
     "name": "stdout",
     "output_type": "stream",
     "text": [
      "The total revenue for the orders in Orders.csv is:\n",
      "85221.28\n"
     ]
    }
   ],
   "source": [
    "print('The total revenue for the orders in Orders.csv is:')\n",
    "print(ordersANDprices['total_cost'].sum())"
   ]
  },
  {
   "cell_type": "markdown",
   "metadata": {},
   "source": [
    "SQL code"
   ]
  },
  {
   "cell_type": "markdown",
   "metadata": {},
   "source": [
    "~~~~sql\n",
    "CREATE TABLE customers (\n",
    "    customer_name char,\n",
    "    zip_code int,\n",
    ");\n",
    "\n",
    "CREATE TABLE orders (\n",
    "    order_number int,\n",
    "    customer_name char,\n",
    "    product char,\n",
    "    quantity decimal,\n",
    "    date datetime,\n",
    ");\n",
    "\n",
    "CREATE TABLE prices (\n",
    "    product char,\n",
    "    price decimal,\n",
    ");\n",
    "\n",
    "CREATE TABLE ordersandprices AS\n",
    "    SELECT *\n",
    "    FROM orders\n",
    "    INNER JOIN prices ON orders.product=prices.product;\n",
    "\n",
    "UPDATE orderandprices SET total_cost=quantity*price;\n",
    "\n",
    "SELECT SUM(total_cost)\n",
    "FROM orderandprices;\n",
    "\n",
    "~~~~\n"
   ]
  },
  {
   "cell_type": "markdown",
   "metadata": {},
   "source": [
    "# Summarize total revenue by product"
   ]
  },
  {
   "cell_type": "markdown",
   "metadata": {},
   "source": [
    "python code"
   ]
  },
  {
   "cell_type": "code",
   "execution_count": 211,
   "metadata": {},
   "outputs": [
    {
     "name": "stdout",
     "output_type": "stream",
     "text": [
      "The total revenue by product\n",
      "product\n",
      "y6     19741.32\n",
      "y3     17595.36\n",
      "y7     11120.20\n",
      "y5      9316.15\n",
      "x9      8860.50\n",
      "x6      2994.25\n",
      "y2      2497.04\n",
      "y1      2496.00\n",
      "x10     2284.45\n",
      "x8      1807.92\n",
      "y4      1166.10\n",
      "x3       958.68\n",
      "x7       943.50\n",
      "x12      767.88\n",
      "x2       574.86\n",
      "y8       571.74\n",
      "x11      532.08\n",
      "x5       448.72\n",
      "x1       288.54\n",
      "x4       255.99\n",
      "Name: total_cost, dtype: float64\n"
     ]
    }
   ],
   "source": [
    "costBYprod=ordersANDprices.groupby(['product']).sum()\n",
    "print('The total revenue by product')\n",
    "print(costBYprod['total_cost'].sort_values(ascending=False))\n"
   ]
  },
  {
   "cell_type": "markdown",
   "metadata": {},
   "source": [
    "sql code"
   ]
  },
  {
   "cell_type": "markdown",
   "metadata": {},
   "source": [
    "~~~~sql\n",
    "SELECT SUM(total_cost)\n",
    "FROM orderandprices\n",
    "GROUP BY product\n",
    "ORDER BY COUNT(total_cost) DESC;\n",
    "\n",
    "~~~~"
   ]
  },
  {
   "cell_type": "markdown",
   "metadata": {},
   "source": [
    "# What customer(s) placed the most orders? How many?"
   ]
  },
  {
   "cell_type": "markdown",
   "metadata": {},
   "source": [
    "python code"
   ]
  },
  {
   "cell_type": "code",
   "execution_count": 38,
   "metadata": {},
   "outputs": [
    {
     "name": "stdout",
     "output_type": "stream",
     "text": [
      "Number of orders by customer in decreasing order\n",
      "casilal01    18\n",
      "mcmahdo01    17\n",
      "decindo01    15\n",
      "taveral01    14\n",
      "mayda01      14\n",
      "youngda01    13\n",
      "teherju01    13\n",
      "fluhrjo01    13\n",
      "parsodi01    13\n",
      "brottto01    12\n",
      "lobstky01    12\n",
      "cecchga02    12\n",
      "sweenha01    12\n",
      "floregi01    12\n",
      "hoffmfr01    12\n",
      "macfada01    11\n",
      "bartlja01    11\n",
      "munizma01    11\n",
      "handdo01     11\n",
      "hollimi01    11\n",
      "kimbesa01    11\n",
      "thompsh01    11\n",
      "rigdopa01    11\n",
      "kearnau01    10\n",
      "wellsca01    10\n",
      "thompbr01    10\n",
      "patteke01    10\n",
      "ginnti01     10\n",
      "ortizja01     9\n",
      "sadleca02     9\n",
      "carreca01     9\n",
      "chathbu01     9\n",
      "gearyhu01     9\n",
      "malasma01     9\n",
      "dineeke01     8\n",
      "sandoda01     8\n",
      "newmafr01     8\n",
      "spottji01     7\n",
      "barnesk01     7\n",
      "wallide01     7\n",
      "arroylu01     7\n",
      "westle01      7\n",
      "doakbi01      7\n",
      "pfeffbi01     7\n",
      "holmeda01     6\n",
      "duggaji01     6\n",
      "jonesda05     6\n",
      "whitemy01     6\n",
      "escobyu01     5\n",
      "jonnabu01     4\n",
      "Name: customer_name, dtype: int64\n"
     ]
    }
   ],
   "source": [
    "print('Number of orders by customer in decreasing order')\n",
    "print(ordersANDprices['customer_name'].value_counts())\n"
   ]
  },
  {
   "cell_type": "markdown",
   "metadata": {},
   "source": [
    "sql code"
   ]
  },
  {
   "cell_type": "markdown",
   "metadata": {},
   "source": [
    "\n",
    "~~~~sql\n",
    "SELECT COUNT(customer_name), customer_name\n",
    "FROM orderandprices\n",
    "GROUP BY customer_name\n",
    "ORDER BY COUNT(customer_name) DESC;\n",
    "~~~~"
   ]
  },
  {
   "cell_type": "markdown",
   "metadata": {},
   "source": [
    "# What zip code had the most revenue? How much?"
   ]
  },
  {
   "cell_type": "markdown",
   "metadata": {},
   "source": [
    "python code"
   ]
  },
  {
   "cell_type": "code",
   "execution_count": 48,
   "metadata": {},
   "outputs": [
    {
     "data": {
      "text/plain": [
       "500"
      ]
     },
     "execution_count": 48,
     "metadata": {},
     "output_type": "execute_result"
    }
   ],
   "source": [
    "len(ordersANDprices)"
   ]
  },
  {
   "cell_type": "code",
   "execution_count": 53,
   "metadata": {},
   "outputs": [
    {
     "data": {
      "text/plain": [
       "90289    108\n",
       "60062    101\n",
       "53987     95\n",
       "90101     80\n",
       "60016     67\n",
       "60048     49\n",
       "Name: zip_code, dtype: int64"
      ]
     },
     "execution_count": 53,
     "metadata": {},
     "output_type": "execute_result"
    }
   ],
   "source": [
    "master=pd.merge(ordersANDprices, customers, on=\"customer_name\")\n",
    "#len(master)\n",
    "#master.head()\n",
    "master['zip_code'].value_counts()"
   ]
  },
  {
   "cell_type": "code",
   "execution_count": 57,
   "metadata": {},
   "outputs": [
    {
     "name": "stdout",
     "output_type": "stream",
     "text": [
      "The total revenue zipcode in descending order\n",
      "zip_code\n",
      "90289    18979.42\n",
      "60062    17208.79\n",
      "53987    16738.67\n",
      "90101    12670.43\n",
      "60016    11350.03\n",
      "60048     8273.94\n",
      "Name: total_cost, dtype: float64\n",
      "Zipcode 90289 had the most revene with $18,797.42\n"
     ]
    }
   ],
   "source": [
    "revBYzip=master.groupby(['zip_code']).sum()\n",
    "print('The total revenue zipcode in descending order')\n",
    "print(revBYzip['total_cost'].sort_values(ascending=False))\n",
    "print('Zipcode 90289 had the most revene with $18,797.42')"
   ]
  },
  {
   "cell_type": "markdown",
   "metadata": {},
   "source": [
    "SQL code"
   ]
  },
  {
   "cell_type": "markdown",
   "metadata": {},
   "source": [
    "~~~~sql\n",
    "\n",
    "CREATE TABLE master AS\n",
    "    SELECT *\n",
    "    FROM ordersandprices\n",
    "    INNER JOIN customers ON ordersandprices.customer_name=customers.customer_name;\n",
    "    \n",
    "SELECT SUM(total_cost)\n",
    "FROM master\n",
    "GROUP BY zip_code\n",
    "ORDER BY COUNT(total_cost) DESC;\n",
    "\n",
    "~~~~"
   ]
  },
  {
   "cell_type": "markdown",
   "metadata": {},
   "source": [
    "# How many units of product y6 were ordered by customers in zip code 60062 between 11/10/2017 and 11/30/2017, inclusively?"
   ]
  },
  {
   "cell_type": "markdown",
   "metadata": {},
   "source": [
    "python code"
   ]
  },
  {
   "cell_type": "code",
   "execution_count": 88,
   "metadata": {},
   "outputs": [
    {
     "name": "stdout",
     "output_type": "stream",
     "text": [
      "     order_number customer_name product  quantity        date  price  \\\n",
      "117           407     cecchga02      y6         4  2017-11-27  81.24   \n",
      "371           116     thompbr01      y6         4  2017-11-14  81.24   \n",
      "372           406     thompbr01      y6         2  2017-11-10  81.24   \n",
      "388           283     hollimi01      y6         1  2017-11-17  81.24   \n",
      "490            61     rigdopa01      y6         2  2017-11-26  81.24   \n",
      "\n",
      "     total_cost  zip_code  \n",
      "117      324.96     60062  \n",
      "371      324.96     60062  \n",
      "372      162.48     60062  \n",
      "388       81.24     60062  \n",
      "490      162.48     60062  \n",
      "\n",
      "13\n",
      "\n",
      "The total units of product y6 in 60062 between Nov 10 2017 and Nov 20th 2017 was 13\n"
     ]
    }
   ],
   "source": [
    "filteredDF=master.loc[(master['product'] == 'y6') & (master['zip_code']==60062) &(master['date']>=\"2017-11-10\") &(master['date']<=\"2017-11-30\")]\n",
    "print(filteredDF)\n",
    "print(\"\")\n",
    "print(filteredDF['quantity'].sum())\n",
    "print(\"\")\n",
    "print(\"The total units of product y6 in 60062 between Nov 10 2017 and Nov 20th 2017 was 13\")\n",
    "\n"
   ]
  },
  {
   "cell_type": "markdown",
   "metadata": {},
   "source": [
    "sql code"
   ]
  },
  {
   "cell_type": "markdown",
   "metadata": {},
   "source": [
    "~~~~sql\n",
    "SELECT * FROM master\n",
    "WHERE product = 'y6' AND zip_code = 60062 AND date BETWEEN '2017-11-10' AND '2017-11-30'\n",
    "~~~~"
   ]
  },
  {
   "cell_type": "markdown",
   "metadata": {},
   "source": [
    "# What product had the largest mean order quantity? What is the mean?"
   ]
  },
  {
   "cell_type": "markdown",
   "metadata": {},
   "source": [
    "python code"
   ]
  },
  {
   "cell_type": "code",
   "execution_count": 98,
   "metadata": {},
   "outputs": [
    {
     "name": "stdout",
     "output_type": "stream",
     "text": [
      "product\n",
      "x10    3.588235\n",
      "y5     3.285714\n",
      "y8     3.250000\n",
      "y1     3.250000\n",
      "y2     3.250000\n",
      "x9     3.193548\n",
      "y3     3.130435\n",
      "x7     3.083333\n",
      "x4     3.000000\n",
      "y7     2.978723\n",
      "y6     2.963415\n",
      "x6     2.900000\n",
      "y4     2.888889\n",
      "x1     2.863636\n",
      "x12    2.793103\n",
      "x8     2.666667\n",
      "x5     2.666667\n",
      "x11    2.666667\n",
      "x2     2.600000\n",
      "x3     2.000000\n",
      "Name: quantity, dtype: float64\n",
      "Product x10 has the largest mean order quantity at 3.588\n"
     ]
    }
   ],
   "source": [
    "meansDF=master.groupby(['product']).mean()\n",
    "print(meansDF['quantity'].sort_values(ascending=False))\n",
    "\n",
    "print('Product x10 has the largest mean order quantity at 3.588')"
   ]
  },
  {
   "cell_type": "markdown",
   "metadata": {},
   "source": [
    "sql code"
   ]
  },
  {
   "cell_type": "markdown",
   "metadata": {},
   "source": [
    "~~~~sql\n",
    "SELECT AVG(quantity), product\n",
    "FROM master\n",
    "GROUP BY product\n",
    "ORDER BY AVG(quantity) DESC;\n",
    "~~~~"
   ]
  },
  {
   "cell_type": "markdown",
   "metadata": {},
   "source": [
    "# What product(s) had the fewest orders?  How many? How about the most?  How many?"
   ]
  },
  {
   "cell_type": "markdown",
   "metadata": {},
   "source": [
    "python code"
   ]
  },
  {
   "cell_type": "code",
   "execution_count": 103,
   "metadata": {},
   "outputs": [
    {
     "name": "stdout",
     "output_type": "stream",
     "text": [
      "product\n",
      "x11      8\n",
      "x5       8\n",
      "x3      12\n",
      "y8      13\n",
      "x2      13\n",
      "x4      21\n",
      "x8      24\n",
      "y4      26\n",
      "x10     61\n",
      "x1      63\n",
      "y1      65\n",
      "x7      74\n",
      "x12     81\n",
      "y2      91\n",
      "x9      99\n",
      "y5     115\n",
      "y7     140\n",
      "x6     145\n",
      "y3     216\n",
      "y6     243\n",
      "Name: quantity, dtype: int64\n",
      "\n",
      "The products with the fewest total orders are x11 and x5, tied at 8 units\n",
      "\n",
      "The product with the most orders was y6 with 243 orders\n"
     ]
    }
   ],
   "source": [
    "print(costBYprod['quantity'].sort_values(ascending=True))\n",
    "print(\"\")\n",
    "print(\"The products with the fewest total orders are x11 and x5, tied at 8 units\")\n",
    "print(\"\")\n",
    "print(\"The product with the most orders was y6 with 243 orders\")"
   ]
  },
  {
   "cell_type": "markdown",
   "metadata": {},
   "source": [
    "sql code"
   ]
  },
  {
   "cell_type": "markdown",
   "metadata": {},
   "source": [
    "~~~~sql\n",
    "SELECT SUM(quantity)\n",
    "FROM orderandprices\n",
    "GROUP BY product\n",
    "ORDER BY COUNT(quantity) DESC;\n",
    "~~~~"
   ]
  },
  {
   "cell_type": "markdown",
   "metadata": {},
   "source": [
    "# What is the shortest and longest duration in days between orders placed by customer 'westle01'?"
   ]
  },
  {
   "cell_type": "markdown",
   "metadata": {},
   "source": [
    "python code"
   ]
  },
  {
   "cell_type": "code",
   "execution_count": 216,
   "metadata": {},
   "outputs": [
    {
     "name": "stdout",
     "output_type": "stream",
     "text": [
      "234    0 days\n",
      "231    3 days\n",
      "228    7 days\n",
      "229   12 days\n",
      "233   17 days\n",
      "230   22 days\n",
      "232       NaT\n",
      "Name: date, dtype: timedelta64[ns]\n",
      "the shortest duration in days between orders is 0 days and the longest is 22 days\n"
     ]
    }
   ],
   "source": [
    "\n",
    "filteredDF2=master.loc[(master['customer_name'] == 'westle01') ]\n",
    "#print(filteredDF2)\n",
    "times=pd.to_datetime(filteredDF2['date']).sort_values()\n",
    "#print(times)\n",
    "\n",
    "y = times - times.shift()\n",
    "print(y.sort_values())\n",
    "print(\"the shortest duration in days between orders is 0 days and the longest is 22 days\")"
   ]
  },
  {
   "cell_type": "markdown",
   "metadata": {},
   "source": [
    "sql code"
   ]
  },
  {
   "cell_type": "markdown",
   "metadata": {},
   "source": [
    "~~~~sql\n",
    "CREATE TABLE filtered AS\n",
    "    SELECT * from master\n",
    "    WHERE customer_name ='westle01'\n",
    "    ORDER BY date DESC;\n",
    "\n",
    "SELECT date,\n",
    "       date - lag(date) over (order by date) as difference\n",
    "FROM filtered \n",
    "~~~~"
   ]
  },
  {
   "cell_type": "markdown",
   "metadata": {},
   "source": [
    "# How many customers have the letter 'w' in their customer_id?  Who are they?"
   ]
  },
  {
   "cell_type": "markdown",
   "metadata": {},
   "source": [
    "python code"
   ]
  },
  {
   "cell_type": "code",
   "execution_count": 158,
   "metadata": {},
   "outputs": [
    {
     "name": "stdout",
     "output_type": "stream",
     "text": [
      "6\n",
      "\n",
      "sweenha01    12\n",
      "wellsca01    10\n",
      "newmafr01     8\n",
      "westle01      7\n",
      "wallide01     7\n",
      "whitemy01     6\n",
      "Name: customer_name, dtype: int64\n"
     ]
    }
   ],
   "source": [
    "WsDF=master[master['customer_name'].str.contains(\"w\")]\n",
    "WsDF['customer_name'].value_counts()\n",
    "print(len(WsDF['customer_name'].value_counts()))\n",
    "print(\"\")\n",
    "print(WsDF['customer_name'].value_counts())\n"
   ]
  },
  {
   "cell_type": "markdown",
   "metadata": {},
   "source": [
    "sql code"
   ]
  },
  {
   "cell_type": "markdown",
   "metadata": {},
   "source": [
    "~~~~sql\n",
    "SELECT * from customers\n",
    "WHERE customer_name LIKE \"%w%\"\n",
    "~~~~"
   ]
  },
  {
   "cell_type": "markdown",
   "metadata": {},
   "source": [
    "# Generate a plot and a chart of revenue by day of week\n",
    "- please use one of the following (i.e. make it fancier than matplotlib)\n",
    "- plotnine\n",
    "- seaborn\n",
    "- bokeh\n",
    "- plotly\n",
    "- anything that is not just standard matplotlib"
   ]
  },
  {
   "cell_type": "code",
   "execution_count": 166,
   "metadata": {},
   "outputs": [
    {
     "data": {
      "text/html": [
       "<div>\n",
       "<style scoped>\n",
       "    .dataframe tbody tr th:only-of-type {\n",
       "        vertical-align: middle;\n",
       "    }\n",
       "\n",
       "    .dataframe tbody tr th {\n",
       "        vertical-align: top;\n",
       "    }\n",
       "\n",
       "    .dataframe thead th {\n",
       "        text-align: right;\n",
       "    }\n",
       "</style>\n",
       "<table border=\"1\" class=\"dataframe\">\n",
       "  <thead>\n",
       "    <tr style=\"text-align: right;\">\n",
       "      <th></th>\n",
       "      <th>order_number</th>\n",
       "      <th>customer_name</th>\n",
       "      <th>product</th>\n",
       "      <th>quantity</th>\n",
       "      <th>date</th>\n",
       "      <th>price</th>\n",
       "      <th>total_cost</th>\n",
       "      <th>zip_code</th>\n",
       "      <th>day_of_week</th>\n",
       "    </tr>\n",
       "  </thead>\n",
       "  <tbody>\n",
       "    <tr>\n",
       "      <th>0</th>\n",
       "      <td>1</td>\n",
       "      <td>carreca01</td>\n",
       "      <td>y3</td>\n",
       "      <td>1</td>\n",
       "      <td>2017-12-09</td>\n",
       "      <td>81.46</td>\n",
       "      <td>81.46</td>\n",
       "      <td>90101</td>\n",
       "      <td>Saturday</td>\n",
       "    </tr>\n",
       "    <tr>\n",
       "      <th>1</th>\n",
       "      <td>37</td>\n",
       "      <td>carreca01</td>\n",
       "      <td>y6</td>\n",
       "      <td>1</td>\n",
       "      <td>2017-12-24</td>\n",
       "      <td>81.24</td>\n",
       "      <td>81.24</td>\n",
       "      <td>90101</td>\n",
       "      <td>Sunday</td>\n",
       "    </tr>\n",
       "    <tr>\n",
       "      <th>2</th>\n",
       "      <td>151</td>\n",
       "      <td>carreca01</td>\n",
       "      <td>y6</td>\n",
       "      <td>4</td>\n",
       "      <td>2017-10-26</td>\n",
       "      <td>81.24</td>\n",
       "      <td>324.96</td>\n",
       "      <td>90101</td>\n",
       "      <td>Thursday</td>\n",
       "    </tr>\n",
       "    <tr>\n",
       "      <th>3</th>\n",
       "      <td>345</td>\n",
       "      <td>carreca01</td>\n",
       "      <td>y6</td>\n",
       "      <td>2</td>\n",
       "      <td>2017-10-26</td>\n",
       "      <td>81.24</td>\n",
       "      <td>162.48</td>\n",
       "      <td>90101</td>\n",
       "      <td>Thursday</td>\n",
       "    </tr>\n",
       "    <tr>\n",
       "      <th>4</th>\n",
       "      <td>32</td>\n",
       "      <td>carreca01</td>\n",
       "      <td>y2</td>\n",
       "      <td>4</td>\n",
       "      <td>2017-10-31</td>\n",
       "      <td>27.44</td>\n",
       "      <td>109.76</td>\n",
       "      <td>90101</td>\n",
       "      <td>Tuesday</td>\n",
       "    </tr>\n",
       "  </tbody>\n",
       "</table>\n",
       "</div>"
      ],
      "text/plain": [
       "   order_number customer_name product  quantity       date  price  total_cost  \\\n",
       "0             1     carreca01      y3         1 2017-12-09  81.46       81.46   \n",
       "1            37     carreca01      y6         1 2017-12-24  81.24       81.24   \n",
       "2           151     carreca01      y6         4 2017-10-26  81.24      324.96   \n",
       "3           345     carreca01      y6         2 2017-10-26  81.24      162.48   \n",
       "4            32     carreca01      y2         4 2017-10-31  27.44      109.76   \n",
       "\n",
       "   zip_code day_of_week  \n",
       "0     90101    Saturday  \n",
       "1     90101      Sunday  \n",
       "2     90101    Thursday  \n",
       "3     90101    Thursday  \n",
       "4     90101     Tuesday  "
      ]
     },
     "execution_count": 166,
     "metadata": {},
     "output_type": "execute_result"
    }
   ],
   "source": [
    "master['date'] = pd.to_datetime(master['date'])\n",
    "\n",
    "master['day_of_week'] = master['date'].dt.day_name()\n",
    "master.head()"
   ]
  },
  {
   "cell_type": "code",
   "execution_count": 188,
   "metadata": {},
   "outputs": [
    {
     "data": {
      "text/plain": [
       "day_of_week\n",
       "Friday       13803.71\n",
       "Monday       13241.73\n",
       "Saturday     12515.11\n",
       "Sunday       13737.93\n",
       "Thursday     11409.19\n",
       "Tuesday      10388.39\n",
       "Wednesday    10125.22\n",
       "Name: total_cost, dtype: float64"
      ]
     },
     "execution_count": 188,
     "metadata": {},
     "output_type": "execute_result"
    }
   ],
   "source": [
    "revBYday = master.groupby(['day_of_week']).sum()\n",
    "revBYday['total_cost'].sort_values(ascending=False)\n",
    "\n",
    "revBYday['total_cost']\n"
   ]
  },
  {
   "cell_type": "code",
   "execution_count": 207,
   "metadata": {},
   "outputs": [
    {
     "name": "stderr",
     "output_type": "stream",
     "text": [
      "/usr/local/lib/python3.6/site-packages/scipy/stats/stats.py:1713: FutureWarning: Using a non-tuple sequence for multidimensional indexing is deprecated; use `arr[tuple(seq)]` instead of `arr[seq]`. In the future this will be interpreted as an array index, `arr[np.array(seq)]`, which will result either in an error or a different result.\n",
      "  return np.add.reduce(sorted[indexer] * weights, axis=axis) / sumval\n"
     ]
    },
    {
     "data": {
      "image/png": "[encoded data removed]",
      "text/plain": [
       "<Figure size 432x288 with 1 Axes>"
      ]
     },
     "metadata": {},
     "output_type": "display_data"
    }
   ],
   "source": [
    "import seaborn as sns\n",
    "import pandas as pd\n",
    "\n",
    "order = [\"Sunday\", \"Monday\", \"Tuesday\", \"Wednesday\", \"Thursday\", \"Friday\", \"Saturday\"]\n",
    "\n",
    "\n",
    "sns.set(style=\"whitegrid\")\n",
    "tips = sns.load_dataset(\"tips\")\n",
    "ax = sns.barplot(x=\"day_of_week\", y=\"total_cost\", data=master, order=order)\n",
    "\n"
   ]
  },
  {
   "cell_type": "code",
   "execution_count": null,
   "metadata": {},
   "outputs": [],
   "source": []
  }
 ],
 "metadata": {
  "kernelspec": {
   "display_name": "Python 3",
   "language": "python",
   "name": "python3"
  },
  "language_info": {
   "codemirror_mode": {
    "name": "ipython",
    "version": 3
   },
   "file_extension": ".py",
   "mimetype": "text/x-python",
   "name": "python",
   "nbconvert_exporter": "python",
   "pygments_lexer": "ipython3",
   "version": "3.6.5"
  }
 },
 "nbformat": 4,
 "nbformat_minor": 2
}
